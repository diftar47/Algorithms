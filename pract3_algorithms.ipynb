{
  "cells": [
    {
      "cell_type": "markdown",
      "metadata": {
        "id": "view-in-github",
        "colab_type": "text"
      },
      "source": [
        "<a href=\"https://colab.research.google.com/github/diftar47/Algorithms/blob/main/pract3_algorithms.ipynb\" target=\"_parent\"><img src=\"https://colab.research.google.com/assets/colab-badge.svg\" alt=\"Open In Colab\"/></a>"
      ]
    },
    {
      "cell_type": "markdown",
      "id": "37d425eb",
      "metadata": {
        "id": "37d425eb"
      },
      "source": [
        "# Практична робота №3\n",
        "\n",
        "# Алгоритми сортування\n"
      ]
    },
    {
      "cell_type": "markdown",
      "id": "8e1aff42",
      "metadata": {
        "id": "8e1aff42"
      },
      "source": [
        "## Завдання 1\n",
        "**Перевірте алгоритм сортування вибором**\n",
        "\n",
        "\n",
        "```\n",
        "def selection_sort(array):\n",
        "    length = len(array)\n",
        "    # Перебираємо кожен елемент масиву (крім останнього)\n",
        "    for i in range(length - 1):\n",
        "        # Індекс найменшого елемента у поточній ітерації\n",
        "        min_index = i\n",
        "\n",
        "        # Шукаємо менший елемент у решті масиву\n",
        "        for j in range(i + 1, length):\n",
        "            if array[j] < array[min_index]:\n",
        "                min_index = j\n",
        "\n",
        "        # Міняємо місцями знайдений найменший з поточним\n",
        "        array[i], array[min_index] = array[min_index], array[i]\n",
        "    return array\n",
        "\n",
        "```\n",
        "\n",
        "\n"
      ]
    },
    {
      "cell_type": "markdown",
      "id": "5f7dc9ef",
      "metadata": {
        "id": "5f7dc9ef"
      },
      "source": [
        "**Завдання для самостійної роботи:**\n",
        "\n",
        "Реалізуйте алгоритм сортування в порядку **збігання (?????????????????????)** для масиву з 10 цілих чисел:\n",
        "\n"
      ]
    },
    {
      "cell_type": "code",
      "execution_count": 1,
      "id": "599a2c7f",
      "metadata": {
        "colab": {
          "base_uri": "https://localhost:8080/"
        },
        "id": "599a2c7f",
        "outputId": "190d8184-795d-443c-b6d2-58a457c6c553"
      },
      "outputs": [
        {
          "output_type": "stream",
          "name": "stdout",
          "text": [
            "[3, 7, 12, 15, 21, 42, 54, 67, 89, 98]\n"
          ]
        }
      ],
      "source": [
        "def bubble_sort(arr):\n",
        "    n = len(arr)\n",
        "    for i in range(n):\n",
        "        for j in range(0, n - i - 1):\n",
        "            if arr[j] > arr[j + 1]:\n",
        "                arr[j], arr[j + 1] = arr[j + 1], arr[j]\n",
        "\n",
        "array = [42, 7, 15, 98, 3, 67, 21, 54, 89, 12]\n",
        "bubble_sort(array)\n",
        "print(array)"
      ]
    },
    {
      "cell_type": "markdown",
      "id": "0e526f6d",
      "metadata": {
        "id": "0e526f6d"
      },
      "source": [
        "## Завдання 2\n",
        "**Перевірте алгоритм сортування бульбашкою**\n",
        "\n",
        "\n",
        "```\n",
        "def bubble_sort(a):\n",
        "    size = len(a)\n",
        "    for i in range(size):\n",
        "        for j in range(size - 1, i, -1):\n",
        "            if a[j - 1] > a[j]:  # якщо попередній більший за поточний\n",
        "                a[j - 1], a[j] = a[j], a[j - 1]\n",
        "```\n",
        "\n"
      ]
    },
    {
      "cell_type": "markdown",
      "id": "3f40bec2",
      "metadata": {
        "id": "3f40bec2"
      },
      "source": [
        "**Завдання для самостійної роботи:**\n",
        "\n",
        "Реалізуйте алгоритм сортування бульбашкою в порядку збігання для масиву з 10 дробових чисел, які вводить користувач.   \n",
        "\n",
        "    Зверніть увагу, з кожним виконанням сортування бульбашкою найбільше значення в масиві «бульбашиться» до кінця. Після першої ітерації останній елемент масиву вже відсортовано. Після другої ітерації відсортовано передостанній елемент масиву тощо. З кожною новою ітерацією нам не потрібно перевіряти ще раз елементи, які вже були відсортовані. Змініть цикл відповідним чином.\n",
        "\n",
        "   Якщо протягом усієї ітерації не виконається жодної заміни, ми знаємо, що масив вже відсортований. Введіть перевірку того, чи були зроблені будь-які заміни в поточній ітерації, і, якщо ні, завершіть виконання циклу. Якщо цикл був завершений, виведіть інформацію про те, на якій ітерації сортування елементів завершилося.\n"
      ]
    },
    {
      "cell_type": "code",
      "execution_count": 3,
      "id": "d59fa059",
      "metadata": {
        "id": "d59fa059",
        "colab": {
          "base_uri": "https://localhost:8080/"
        },
        "outputId": "45652af0-a468-45f5-9c2f-3a0d5602ffb9"
      },
      "outputs": [
        {
          "output_type": "stream",
          "name": "stdout",
          "text": [
            "Введіть 10 дробових чисел:\n",
            "Число 1: 432.5\n",
            "\n",
            "Відсортований масив:\n",
            "432.5 \n",
            "Сортування завершилося на ітерації 0.\n"
          ]
        }
      ],
      "source": [
        "def bubble_sort(arr):\n",
        "    n = len(arr)\n",
        "    swapped = True\n",
        "    i = n - 1\n",
        "    iteration = 0\n",
        "    while swapped and i > 0:\n",
        "        swapped = False\n",
        "        for j in range(i):\n",
        "            if arr[j] > arr[j + 1]:\n",
        "                arr[j], arr[j + 1] = arr[j + 1], arr[j]\n",
        "                swapped = True\n",
        "        iteration += 1\n",
        "        i -= 1\n",
        "    return iteration\n",
        "\n",
        "numbers = []\n",
        "print(\"Введіть 10 дробових чисел:\")\n",
        "for i in range(10):\n",
        "    while True:\n",
        "        try:\n",
        "            num = float(input(f\"Число {i+1}: \"))\n",
        "            numbers.append(num)\n",
        "            break\n",
        "        except ValueError:\n",
        "            print(\"Будь ласка, введіть дійсне число.\")\n",
        "\n",
        "iteration = bubble_sort(numbers)\n",
        "\n",
        "print(\"\\nВідсортований масив:\")\n",
        "for num in numbers:\n",
        "    print(num, end=\" \")\n",
        "print(f\"\\nСортування завершилося на ітерації {iteration}.\")"
      ]
    },
    {
      "cell_type": "markdown",
      "id": "582a690a",
      "metadata": {
        "id": "582a690a"
      },
      "source": [
        "## Завдання №3\n",
        "\n",
        "\n",
        "Проведіть експерименти з вимірювання часу виконання обох алгоритмів для великих масивів та зробіть висновки."
      ]
    },
    {
      "cell_type": "markdown",
      "id": "65e8cccc",
      "metadata": {
        "id": "65e8cccc"
      },
      "source": [
        "#### Результати експериментів та ваші висновки:\n",
        "Оптимізована версія алгоритму є значно кращою, особливо коли є ймовірність отримання вже відсортованих або майже відсортованих даних. Для повністю випадкових даних перевага невелика, але оскільки оптимізація не погіршує продуктивність у гіршому випадку, її варто завжди використовувати.\n",
        "\n",
        "Ключова перевага: Здатність рано завершувати роботу при відсортованому масиві робить оптимізовану версію значно ефективнішою в реальних умовах, де дані часто можуть бути частково впорядкованими."
      ]
    },
    {
      "cell_type": "markdown",
      "id": "57122f13",
      "metadata": {
        "id": "57122f13"
      },
      "source": [
        "## Завдання 4\n",
        "Самостійно вивчить та наведіть реалізацію будь-якого іншого алгоритму сортування. Поясніть основні кроки в коментарях."
      ]
    },
    {
      "cell_type": "code",
      "execution_count": 4,
      "id": "dfff7a0f",
      "metadata": {
        "id": "dfff7a0f",
        "colab": {
          "base_uri": "https://localhost:8080/"
        },
        "outputId": "2c628c91-16a0-4cc0-ba4e-b61851c0ad53"
      },
      "outputs": [
        {
          "output_type": "stream",
          "name": "stdout",
          "text": [
            "Введіть 10 дробових чисел:\n",
            "Число 1: 5342.54\n",
            "Число 2: 534.5\n",
            "Число 3: 5345.6\n",
            "Число 4: 5435.76\n",
            "Число 5: 354.5\n",
            "Число 6: 1.34523\n",
            "Число 7: 432.123\n",
            "Число 8: 423.45\n",
            "Число 9: 23.4\n",
            "Число 10: 4.3\n",
            "\n",
            "Відсортований масив:\n",
            "1.34523 4.3 23.4 354.5 423.45 432.123 534.5 5342.54 5345.6 5435.76 "
          ]
        }
      ],
      "source": [
        "def quicksort(arr):\n",
        "    \"\"\"\n",
        "    Алгоритм швидкого сортування (QuickSort)\n",
        "    Часова складність: O(n log n) в середньому випадку, O(n²) у найгіршому\n",
        "    Просторова складність: O(log n) через рекурсивні виклики\n",
        "    \"\"\"\n",
        "\n",
        "    # Базовий випадок: масив з 0 або 1 елемента вже відсортований\n",
        "    if len(arr) <= 1:\n",
        "        return arr\n",
        "\n",
        "    # Вибір опорного елемента (pivot) - середнього елемента масиву\n",
        "    pivot = arr[len(arr) // 2]\n",
        "\n",
        "    # Розділення масиву на три частини:\n",
        "    # - Елементи менші за опорний\n",
        "    # - Елементи рівні опорному\n",
        "    # - Елементи більші за опорний\n",
        "    left = [x for x in arr if x < pivot]\n",
        "    middle = [x for x in arr if x == pivot]\n",
        "    right = [x for x in arr if x > pivot]\n",
        "\n",
        "    # Рекурсивне сортування лівої та правої частин та об'єднання результату\n",
        "    return quicksort(left) + middle + quicksort(right)\n",
        "\n",
        "\n",
        "# Демонстрація роботи алгоритму\n",
        "if __name__ == \"__main__\":\n",
        "    # Введення даних від користувача\n",
        "    numbers = []\n",
        "    print(\"Введіть 10 дробових чисел:\")\n",
        "    for i in range(10):\n",
        "        while True:\n",
        "            try:\n",
        "                num = float(input(f\"Число {i+1}: \"))\n",
        "                numbers.append(num)\n",
        "                break\n",
        "            except ValueError:\n",
        "                print(\"Будь ласка, введіть дійсне число.\")\n",
        "\n",
        "    # Сортування масиву\n",
        "    sorted_numbers = quicksort(numbers)\n",
        "\n",
        "    # Виведення результату\n",
        "    print(\"\\nВідсортований масив:\")\n",
        "    for num in sorted_numbers:\n",
        "        print(num, end=\" \")"
      ]
    },
    {
      "cell_type": "markdown",
      "id": "ebcbbf84",
      "metadata": {
        "id": "ebcbbf84"
      },
      "source": [
        "## Контрольні запитання\n",
        "1. Яка основна ідея алгоритму сортування вибором (Selection Sort) і яка його середня обчислювальна складність?\n",
        "- Основна ідея - послідовне знаходження мінімального/максимального елемента та поміщення його на правильну позицію. Складність: O(n²) у всіх випадках.\n",
        "\n",
        "\n",
        "2. У чому полягає основна відмінність між сортуванням бульбашкою (Bubble Sort) та сортуванням вставками (Insertion Sort)?\n",
        "- Bubble Sort порівнює сусідні елементи і \"спливає\" найбільші значення, а Insertion Sort формує відсортовану частину, вставляючи елементи у потрібну позицію. Insertion Sort зазвичай ефективніший на практиці.\n",
        "3. Який з наведених алгоритмів вважається найефективнішим для роботи з великими обсягами даних?\n",
        "- QuickSort або MergeSort зі складністю O(n log n) у середньому випадку. Для великих даних вони значно швидші за O(n²) алгоритми.\n",
        "4. Який алгоритм ви розібрали самостійно? В чому його відмінності від розібраних вище алгоритмів\n",
        "- QuickSort - використовує підхід \"розділяй і володарюй\" з вибором опорного елемента, на відміну від ітеративних підходів Bubble Sort та Selection Sort. Має значно кращу середню складність O(n log n)."
      ]
    }
  ],
  "metadata": {
    "celltoolbar": "Raw Cell Format",
    "kernelspec": {
      "display_name": "Python 3 (ipykernel)",
      "language": "python",
      "name": "python3"
    },
    "language_info": {
      "codemirror_mode": {
        "name": "ipython",
        "version": 3
      },
      "file_extension": ".py",
      "mimetype": "text/x-python",
      "name": "python",
      "nbconvert_exporter": "python",
      "pygments_lexer": "ipython3",
      "version": "3.11.5"
    },
    "colab": {
      "provenance": [],
      "include_colab_link": true
    }
  },
  "nbformat": 4,
  "nbformat_minor": 5
}