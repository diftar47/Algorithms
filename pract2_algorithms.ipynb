{
  "cells": [
    {
      "cell_type": "markdown",
      "id": "37d425eb",
      "metadata": {
        "id": "37d425eb"
      },
      "source": [
        "# Практична робота №2\n",
        "\n",
        "# Чисельні алгоритми"
      ]
    },
    {
      "cell_type": "markdown",
      "id": "8e1aff42",
      "metadata": {
        "id": "8e1aff42"
      },
      "source": [
        "## Завдання 1\n",
        "**Алгоритм пошуку найбільшого спільного дільника двох чисел**\n",
        "\n",
        "\n",
        "1.\tБеремо два числа, наприклад, a і b.\n",
        "2.\tРозкладаємо кожне число на прості множники (наприклад, 12 = 2 × 2 × 3, 18 = 2 × 3 × 3).\n",
        "3.\tЗнаходимо множники, які є спільними для обох чисел (у нашому прикладі: 2 і 3).\n",
        "4.\tМножимо ці спільні множники між собою: 2 × 3 = 6.\n",
        "5.\tРезультат — це найбільший спільний дільник (НСД).\n"
      ]
    },
    {
      "cell_type": "markdown",
      "id": "5f7dc9ef",
      "metadata": {
        "id": "5f7dc9ef"
      },
      "source": [
        "**Завдання для самостійної роботи:**\n",
        "\n",
        "Реалізуйте алгоритм для простого пошуку найбільшого спільного дільника. Для того, щоб розкласти число на прості множники можна використати наступну функцію:\n",
        "\n",
        "\n",
        "```\n",
        "def prime_factors(n):\n",
        "    factors = []\n",
        "    d = 2\n",
        "    while n > 1:\n",
        "        while n % d == 0:\n",
        "            factors.append(d)\n",
        "            n //= d\n",
        "        d += 1\n",
        "    return factors\n",
        "```\n",
        "Далі потрібно застосувати цю функцію для двох чисел. Ви отримаєте два списки простих множників. Необхідно написати цикл, що створює новий список, який містить тільки загальні члени цих списків. І, нарешті знайти добуток всіх елементів останнього списку.\n",
        "\n",
        "Додайте таймер виконання цього алгоритму.\n",
        "\n",
        "Протестуйте алгоритм для чисел 111999 та 56793\n",
        "\n"
      ]
    },
    {
      "cell_type": "code",
      "execution_count": null,
      "id": "599a2c7f",
      "metadata": {
        "id": "599a2c7f"
      },
      "outputs": [],
      "source": [
        "import time\n",
        "\n",
        "def prime_factors(n):\n",
        "    factors = []\n",
        "    d = 2\n",
        "    while n > 1:\n",
        "        while n % d == 0:\n",
        "            factors.append(d)\n",
        "            n //= d\n",
        "        d += 1\n",
        "    return factors\n",
        "\n",
        "x = 111999\n",
        "y = 56793\n",
        "\n",
        "start = time.perf_counter()\n",
        "\n",
        "fx = prime_factors(x)\n",
        "fy = prime_factors(y)\n",
        "\n",
        "common = []\n",
        "b_copy = fy.copy()\n",
        "for p in fx:\n",
        "    if p in b_copy:\n",
        "        common.append(p)\n",
        "        b_copy.remove(p)\n",
        "\n",
        "gcd = 1\n",
        "for v in common:\n",
        "    gcd *= v\n",
        "\n",
        "end = time.perf_counter()\n",
        "\n",
        "print(\"Прості множники x =\", fx)\n",
        "print(\"Прості множники y =\", fy)\n",
        "print(\"Спільні множники (з урахуванням кратності) =\", common)\n",
        "print(\"НСД (добуток) =\", gcd)\n",
        "print(\"Час виконання: {:.6f} с\".format(end - start))"
      ]
    },
    {
      "cell_type": "markdown",
      "id": "0e526f6d",
      "metadata": {
        "id": "0e526f6d"
      },
      "source": [
        "## Завдання 2\n",
        "Нижче наведений алгоритм Евкліда для пошуку найбільшого спільного дільника. Виконайте його для тих самих великих чисел, що й перший алгоритм.\n",
        "\n"
      ]
    },
    {
      "cell_type": "code",
      "execution_count": null,
      "id": "d59fa059",
      "metadata": {
        "id": "d59fa059"
      },
      "outputs": [],
      "source": [
        "import time\n",
        "\n",
        "def euclid_gcd(a, b):\n",
        "    while b != 0:\n",
        "        a, b = b, a % b\n",
        "    return a\n",
        "\n",
        "# Приклад використання\n",
        "x = 111999\n",
        "y = 56793\n",
        "\n",
        "# Фіксуємо початковий час\n",
        "start_time = time.time()\n",
        "\n",
        "result = euclid_gcd(x, y)\n",
        "\n",
        "# Фіксуємо кінцевий час\n",
        "end_time = time.time()\n",
        "\n",
        "print(f\"НСД чисел {x} і {y} дорівнює {result}\")\n",
        "print(f\"Час виконання: {(end_time - start_time): .8f} секунд\")"
      ]
    },
    {
      "cell_type": "markdown",
      "id": "65e8cccc",
      "metadata": {
        "id": "65e8cccc"
      },
      "source": [
        "Час виконання коду з першого завдання зайняв 0.00015240 секунд, за допомогою метода Евкліда 0.00000191 секунд. З цього можна зробити висновок, що метод Евкліда швидший майже у 80 разів (0.00015240 / 0.00000191 ≈ 80) за звичайний спосіб."
      ]
    },
    {
      "cell_type": "markdown",
      "id": "cea7f145",
      "metadata": {
        "id": "cea7f145"
      },
      "source": [
        "## Завдання 3\n",
        "Нижче наведені деякий алгоритм пошуку найбільшого простого числа до N та решето Ератосфена, яке відбирає всі прості числа до n, а потім знаходить максимальне з них. Перевірте роботу цих алгоритмів на простому прикладі (n=50). Додайте таймер. Перевірте роботу обох алгоритмів для великих n."
      ]
    },
    {
      "cell_type": "code",
      "execution_count": null,
      "id": "f280b75d",
      "metadata": {
        "id": "f280b75d"
      },
      "outputs": [],
      "source": [
        "#Пошук найбільшого простого числа до N\n",
        "#Функція дозволяє перевірити, чи є число простим\n",
        "def is_prime(n):\n",
        "    for i in range(2, int(n**0.5) + 1):\n",
        "        if n % i == 0:\n",
        "            return False\n",
        "    return True\n",
        "#Функція перебирає всі числа від N до 1 з кроком -1\n",
        "#Для кожного числа застосовує попередню функцію\n",
        "#Таким чином можна швидко знайти найближче до N просте число\n",
        "def largest_prime(N):\n",
        "    for num in range(N, 1, -1):  # перебираємо числа від N до 2\n",
        "        if is_prime(num):\n",
        "            return num\n",
        "    return None  # якщо простого числа немає\n",
        "\n",
        "# Приклад використання\n",
        "N = 50\n",
        "print(f\"Найбільше просте число до {N} — {largest_prime(N)}\")"
      ]
    },
    {
      "cell_type": "code",
      "execution_count": null,
      "id": "a2e2238b",
      "metadata": {
        "id": "a2e2238b"
      },
      "outputs": [],
      "source": [
        "#Решето Ератосфена\n",
        "# Введення числа n\n",
        "n = int(input(\"n= \"))\n",
        "\n",
        "# Створюємо список від 0 до n\n",
        "a = list(range(n + 1))\n",
        "\n",
        "# Викреслюємо не прості числа\n",
        "for p in range(2, n + 1):\n",
        "    if a[p] != 0:\n",
        "       for j in range(p * p, n + 1, p):\n",
        "            a[j] = 0\n",
        "print(max(a))\n"
      ]
    },
    {
      "cell_type": "markdown",
      "id": "6a87eee3",
      "metadata": {
        "id": "6a87eee3"
      },
      "source": [
        "#### Результати експериментів та ваші висновки:\n",
        "..."
      ]
    },
    {
      "cell_type": "markdown",
      "id": "6f902ab9",
      "metadata": {
        "raw_mimetype": "text/markdown",
        "id": "6f902ab9"
      },
      "source": [
        "## Завдання 4\n",
        " Нижче наведена реалізація алгоритму визначення інтегралу функції y=(1+sin⁡(x))/(1+cos⁡(x)). Вам потрібно реалізувати таке обчислення для свого варіанту функції:\n",
        "\n",
        "![](https://github.com/NataliaPoluektova/algo/blob/main/prac2.png?raw=1)\n",
        "\n"
      ]
    },
    {
      "cell_type": "code",
      "execution_count": null,
      "id": "98343570",
      "metadata": {
        "id": "98343570",
        "outputId": "aa4be125-23dc-4222-9ce0-dd3e1e43a956"
      },
      "outputs": [
        {
          "name": "stdout",
          "output_type": "stream",
          "text": [
            "Введіть початок інтервалу: 0\n",
            "Введіть кінець інтервалу: 10\n",
            "Введіть кількість інтервалів: 5\n",
            "Інтеграл функції дорівнює: 14.33607286499809\n"
          ]
        }
      ],
      "source": [
        "import math\n",
        "\n",
        "# Функція, інтеграл якої потрібно розрахувати\n",
        "def func(x):\n",
        "    return (1 + math.sin(x)) / (1 + math.cos(x))\n",
        "\n",
        "# Введення даних\n",
        "a = float(input(\"Введіть початок інтервалу: \"))\n",
        "b = float(input(\"Введіть кінець інтервалу: \"))\n",
        "n = int(input(\"Введіть кількість інтервалів: \"))\n",
        "\n",
        "# Розрахунок кроку\n",
        "d = (b - a) / n\n",
        "\n",
        "# Початкове значення аргументу і площі\n",
        "x = a\n",
        "s1 = 0\n",
        "\n",
        "# Обчислення інтегралу методом прямокутників\n",
        "for i in range(1, n + 1):\n",
        "    s = d * func(x)  # площа поточного прямокутника\n",
        "    s1 += s          # додаємо до загальної суми\n",
        "    x += d           # аргумент для наступного прямокутника\n",
        "\n",
        "# Вивід результату\n",
        "print(\"Інтеграл функції дорівнює:\", s1)\n"
      ]
    },
    {
      "cell_type": "code",
      "execution_count": null,
      "id": "dfff7a0f",
      "metadata": {
        "id": "dfff7a0f"
      },
      "outputs": [],
      "source": [
        "Ваш код тут:\n",
        "    ..."
      ]
    },
    {
      "cell_type": "markdown",
      "id": "ebcbbf84",
      "metadata": {
        "id": "ebcbbf84"
      },
      "source": [
        "## Контрольні запитання\n",
        "1. Що таке чисельний алгоритм і для чого він використовується?\n",
        "...\n",
        "2. Як можна знайти найбільший спільний дільник (НСД) двох чисел?\n",
        "...\n",
        "3. Який алгоритм можна використовувати для ефективного пошуку великих простих чисел?\n",
        "...\n",
        "4. Який алгоритм ви навчилися використовувати для чисельного інтегрування?\n",
        "..."
      ]
    }
  ],
  "metadata": {
    "celltoolbar": "Raw Cell Format",
    "kernelspec": {
      "display_name": "Python 3 (ipykernel)",
      "language": "python",
      "name": "python3"
    },
    "language_info": {
      "codemirror_mode": {
        "name": "ipython",
        "version": 3
      },
      "file_extension": ".py",
      "mimetype": "text/x-python",
      "name": "python",
      "nbconvert_exporter": "python",
      "pygments_lexer": "ipython3",
      "version": "3.11.5"
    },
    "colab": {
      "provenance": []
    }
  },
  "nbformat": 4,
  "nbformat_minor": 5
}