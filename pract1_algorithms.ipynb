{
  "cells": [
    {
      "cell_type": "markdown",
      "id": "37d425eb",
      "metadata": {
        "id": "37d425eb"
      },
      "source": [
        "# Практична робота №1\n",
        "\n",
        "# Введення в теорію алгоритмів"
      ]
    },
    {
      "cell_type": "markdown",
      "id": "8e1aff42",
      "metadata": {
        "id": "8e1aff42"
      },
      "source": [
        "## Завдання 1\n",
        "**Приклад алгоритму приготування кави:**\n",
        "1. Взяти чашку,\n",
        "2. Налити воду у чайник,\n",
        "3. Закип'ятити воду,\n",
        "4. Покласти каву у чашку,\n",
        "5. Залити каву окропом,\n",
        "6. Додати цукор/молоко за бажанням,\n",
        "7. Розмішати,\n",
        "8. Кава готова!"
      ]
    },
    {
      "cell_type": "markdown",
      "id": "5f7dc9ef",
      "metadata": {
        "id": "5f7dc9ef"
      },
      "source": [
        "**Завдання для самостійної роботи:**\n",
        "\n",
        "Складіть алгоритм розв’язання квадратного рівняння `ax^2 + bx + c = 0` у вигляді списку кроків."
      ]
    },
    {
      "cell_type": "markdown",
      "id": "d60de6fe",
      "metadata": {
        "id": "d60de6fe"
      },
      "source": [
        "#### Ваш алгоритм тут:\n",
        "1. Перевірити коефіцієнт а:\n",
        "- Якщо а = 0, рівняння є лінійним bx + c = 0.\n",
        "- Перейти до кроку 6.\n",
        "2. Обчислити дискримінант:\n",
        "- D = b^2 - 4ac\n",
        "3. Перевірити знак дискримінанта:\n",
        "- Якщо D > 0 - два дійсні корені.\n",
        "- Якщо D = 0 - один дійсний корень.\n",
        "4. Обчилисти корені для D > 0:\n",
        "- x_1 = (-b + √D) / (2a)\n",
        "- x_2 = (-b - √D) / (2a)\n",
        "5. Обчислити корінь для D = 0:\n",
        "- x = (-b)/(2a)\n",
        "6. Розв’язок лінійного рівняння (якщо a = 0):\n",
        "- Якщо b ≠ 0 - x = -(c/b)\n",
        "- Якщо b = 0 і c = 0 - безліч розв’язків\n",
        "- Якщо b = 0 і c ≠ 0 - розв’язків немає"
      ]
    },
    {
      "cell_type": "markdown",
      "id": "0e526f6d",
      "metadata": {
        "id": "0e526f6d"
      },
      "source": [
        "## Завдання 2\n",
        "**Приклади програм знаходження суми n чисел**\n",
        "\n",
        "1. Через цикл\n",
        "2. Через формулу\n"
      ]
    },
    {
      "cell_type": "code",
      "execution_count": null,
      "id": "d59fa059",
      "metadata": {
        "id": "d59fa059",
        "outputId": "9cc507e0-6965-4a27-8950-3e5278e468a6"
      },
      "outputs": [
        {
          "name": "stdout",
          "output_type": "stream",
          "text": [
            "Сума через цикл (n=10): 55\n",
            "Сума через формулу (n=10): 55\n"
          ]
        }
      ],
      "source": [
        "# 1. Сума через цикл\n",
        "def sum_cycle(n):\n",
        "    total = 0\n",
        "    for i in range(1, n+1):\n",
        "        total += i\n",
        "    return total\n",
        "\n",
        "print(\"Сума через цикл (n=10):\", sum_cycle(10))\n",
        "\n",
        "# 2. Сума через формулу\n",
        "def sum_formula(n):\n",
        "    return n * (n + 1) // 2\n",
        "\n",
        "print(\"Сума через формулу (n=10):\", sum_formula(10))\n"
      ]
    },
    {
      "cell_type": "markdown",
      "id": "582a690a",
      "metadata": {
        "id": "582a690a"
      },
      "source": [
        "**Завдання для самостійної роботи:**\n",
        "\n",
        "Проведіть експерименти з вимірювання часу виконання обох алгоритмів для великих значень `n` (наприклад, 1_000_000, 10_000_000) та зробіть висновки.Для вимірювання часу виконання алгоритму можно використати функцію pref_counter()\n",
        "import time\n",
        "from time import pref_counter\n",
        "\n",
        "Для замірювання часу виконання алгортиму потрібно зберегти значення лічільнику часу до та після виконання:\n",
        "t1=pref_counter()\n",
        "алгоритм\n",
        "t2=pref_counter()\n",
        "\n",
        "та знайти різницю\n",
        "t=t2-t1\n",
        "\n",
        "Ваші функції мають виводити не тільки суму, але й це значення часу\n",
        "\n",
        "return total,t\n",
        "\n"
      ]
    },
    {
      "cell_type": "markdown",
      "id": "65e8cccc",
      "metadata": {
        "id": "65e8cccc"
      },
      "source": [
        "#### Результати експериментів та ваші висновки:\n",
        "..."
      ]
    },
    {
      "cell_type": "markdown",
      "id": "cea7f145",
      "metadata": {
        "id": "cea7f145"
      },
      "source": [
        "## Завдання 3\n",
        "**Приклад алгоритму – Бінарний пошук**"
      ]
    },
    {
      "cell_type": "code",
      "execution_count": null,
      "id": "f280b75d",
      "metadata": {
        "id": "f280b75d",
        "outputId": "4ba1a4a8-d6a8-4fa6-f669-fdb09ab10d89"
      },
      "outputs": [
        {
          "name": "stdout",
          "output_type": "stream",
          "text": [
            "Пошук 3: 1\n",
            "Пошук 10: None\n"
          ]
        }
      ],
      "source": [
        "# Бінарний пошук (приклад)\n",
        "def binary_search(lst, item):\n",
        "    low = 0\n",
        "    high = len(lst) - 1\n",
        "\n",
        "    while low <= high:\n",
        "        mid = (low + high) // 2\n",
        "        guess = lst[mid]\n",
        "        if guess == item:\n",
        "            return mid\n",
        "        if guess > item:\n",
        "            high = mid - 1\n",
        "        else:\n",
        "            low = mid + 1\n",
        "    return None\n",
        "\n",
        "my_list = [1, 3, 5, 7, 9]\n",
        "print(\"Пошук 3:\", binary_search(my_list, 3))\n",
        "print(\"Пошук 10:\", binary_search(my_list, 10))\n"
      ]
    },
    {
      "cell_type": "markdown",
      "id": "2b732743",
      "metadata": {
        "id": "2b732743"
      },
      "source": [
        "**Завдання для самостійної роботи:**\n",
        "\n",
        "Реалізуйте алгоритм пошуку перебором (лінійний пошук) і порівняйте швидкодію з бінарним пошуком на великих списках. Для експерименту з великим n можна згенерувати список, наприклад таким чином:\n",
        "\n",
        "numbers = list(range(1000))\n",
        "print(numbers[:20])  # виведе перші 20 елементів"
      ]
    },
    {
      "cell_type": "code",
      "execution_count": null,
      "id": "fd4211c3",
      "metadata": {
        "id": "fd4211c3"
      },
      "outputs": [],
      "source": [
        "# Ваш код лінійного пошуку тут\n",
        "def linear_search(lst, item):\n",
        "...\n"
      ]
    },
    {
      "cell_type": "markdown",
      "id": "6a87eee3",
      "metadata": {
        "id": "6a87eee3"
      },
      "source": [
        "#### Результати експериментів та ваші висновки:\n",
        "..."
      ]
    },
    {
      "cell_type": "markdown",
      "id": "6f902ab9",
      "metadata": {
        "raw_mimetype": "text/markdown",
        "id": "6f902ab9"
      },
      "source": [
        "## Завдання 4\n",
        "**Аналіз алгоритмів за допомогою нотації O-велике**\n",
        "\n",
        "Розгляньте наведені алгоритми та визначте їх складність:\n",
        "1. Обчислення суми елементів масиву через цикл.\n",
        "2. Обчислення суми елементів масиву через формулу.\n",
        "3. Лінійний пошук у списку.\n",
        "4. Бінарний пошук у списку.\n",
        "\n",
        "**Завдання для самостійної роботи:**\n",
        "\n",
        "Визначте складність кожного алгоритму (`O(n)`, `O(1)`, `O(log n)` тощо) та обґрунтуйте відповідь."
      ]
    },
    {
      "cell_type": "markdown",
      "id": "4a0aebf3",
      "metadata": {
        "id": "4a0aebf3"
      },
      "source": [
        "#### Ваша відповідь та обгрунтування тут:\n",
        "..."
      ]
    },
    {
      "cell_type": "markdown",
      "id": "ebcbbf84",
      "metadata": {
        "id": "ebcbbf84"
      },
      "source": [
        "## Контрольні запитання\n",
        "1. Що таке алгоритм?\n",
        "\n",
        "2. Чим визначається якість алгоритму?\n",
        "\n",
        "3. Шо показує O-велике?\n",
        "\n",
        "4. Який алгоритм більш ефективний з O(n) або з O(log n)? Чому?"
      ]
    }
  ],
  "metadata": {
    "celltoolbar": "Raw Cell Format",
    "kernelspec": {
      "display_name": "Python 3 (ipykernel)",
      "language": "python",
      "name": "python3"
    },
    "language_info": {
      "codemirror_mode": {
        "name": "ipython",
        "version": 3
      },
      "file_extension": ".py",
      "mimetype": "text/x-python",
      "name": "python",
      "nbconvert_exporter": "python",
      "pygments_lexer": "ipython3",
      "version": "3.11.5"
    },
    "colab": {
      "provenance": []
    }
  },
  "nbformat": 4,
  "nbformat_minor": 5
}